{
 "cells": [
  {
   "cell_type": "code",
   "execution_count": null,
   "id": "e23b5835",
   "metadata": {},
   "outputs": [],
   "source": [
    "J, db = 0\n",
    "\n",
    "dw = []\n",
    "\n",
    "# training set\n",
    "m = [0, 3, 5, 6]\n",
    "n = len(m)\n",
    "\n",
    "for i in range (n):\n",
    "    \n",
    "    "
   ]
  }
 ],
 "metadata": {
  "kernelspec": {
   "display_name": "Python 3 (ipykernel)",
   "language": "python",
   "name": "python3"
  },
  "language_info": {
   "codemirror_mode": {
    "name": "ipython",
    "version": 3
   },
   "file_extension": ".py",
   "mimetype": "text/x-python",
   "name": "python",
   "nbconvert_exporter": "python",
   "pygments_lexer": "ipython3",
   "version": "3.10.9"
  }
 },
 "nbformat": 4,
 "nbformat_minor": 5
}
