{
 "cells": [
  {
   "cell_type": "code",
   "execution_count": 1,
   "id": "d54fcefb",
   "metadata": {},
   "outputs": [
    {
     "name": "stdout",
     "output_type": "stream",
     "text": [
      "[0.87671268 0.87195795 0.88389698 ... 0.19164423 0.48602458 0.35189932]\n"
     ]
    }
   ],
   "source": [
    "import numpy as np\n",
    "import time as t\n",
    "\n",
    "test_size = 10000\n",
    "# create a numpy array of ten thousand random integers between 0 and 1000\n",
    "rand_nums1 = np.random.rand(test_size)\n",
    "print(rand_nums1)"
   ]
  },
  {
   "cell_type": "code",
   "execution_count": 2,
   "id": "9f08cd95",
   "metadata": {},
   "outputs": [
    {
     "name": "stdout",
     "output_type": "stream",
     "text": [
      "[0.97678129 0.16812963 0.6302222  ... 0.14532358 0.14860861 0.24915324]\n"
     ]
    }
   ],
   "source": [
    "# create a list of random floats, also 1000 numbers long\n",
    "rand_nums2 = np.random.rand(test_size)\n",
    "print(rand_nums2)"
   ]
  },
  {
   "cell_type": "code",
   "execution_count": 3,
   "id": "8d09d878",
   "metadata": {},
   "outputs": [
    {
     "name": "stdout",
     "output_type": "stream",
     "text": [
      "for loop took: 62685.84704399109 ms\n"
     ]
    }
   ],
   "source": [
    "# cool, now lets compare how long it takes to use a for loop to iterate through these arrays and multiply them all together\n",
    "start = t.time()\n",
    "totals = np.zeros([test_size, test_size])\n",
    "for ii in range(len(rand_nums1)):\n",
    "    for fi in range(len(rand_nums2)):\n",
    "        totals[ii][fi] = rand_nums1[ii] * rand_nums2[fi]\n",
    "end = t.time()\n",
    "\n",
    "print(\"for loop took: {} ms\".format((end-start) * 1000))\n"
   ]
  },
  {
   "cell_type": "code",
   "execution_count": 4,
   "id": "bd32f443",
   "metadata": {},
   "outputs": [
    {
     "name": "stdout",
     "output_type": "stream",
     "text": [
      "(10000, 10000)\n",
      "[[0.85635654 0.14740138 0.5525238  ... 0.12740703 0.13028705 0.21843581]\n",
      " [0.85171221 0.14660197 0.54952726 ... 0.12671605 0.12958046 0.21725115]\n",
      " [0.86337403 0.14860927 0.5570515  ... 0.12845108 0.1313547  0.2202258 ]\n",
      " ...\n",
      " [0.20296897 0.03493627 0.13095619 ... 0.03019732 0.03087993 0.05177247]\n",
      " [0.78276905 0.13473504 0.50504493 ... 0.11645883 0.11909137 0.19966542]\n",
      " [0.42630114 0.07337759 0.27505077 ... 0.06342424 0.06485794 0.1087391 ]]\n"
     ]
    }
   ],
   "source": [
    "print(totals.shape)\n",
    "print(totals[:10])"
   ]
  },
  {
   "cell_type": "code",
   "execution_count": 5,
   "id": "b1366917",
   "metadata": {},
   "outputs": [
    {
     "name": "stdout",
     "output_type": "stream",
     "text": [
      "(10000, 10000)\n",
      "np.dot() took: 513.6580467224121 ms\n"
     ]
    }
   ],
   "source": [
    "# alright, now lets instead use the power of numpy to multiply these arrays instead\n",
    "\n",
    "# totals = np.zeros([1000, 1000])\n",
    "\n",
    "start = t.time()\n",
    "totals1 = np.zeros([test_size, test_size])\n",
    "# derrr do something...\n",
    "totals1 = np.outer(rand_nums1, rand_nums2)\n",
    "print(totals1.shape)\n",
    "end = t.time()\n",
    "\n",
    "print(\"np.dot() took: {} ms\".format((end-start) * 1000))"
   ]
  },
  {
   "cell_type": "code",
   "execution_count": 6,
   "id": "c4b87e1b",
   "metadata": {},
   "outputs": [
    {
     "name": "stdout",
     "output_type": "stream",
     "text": [
      "(10000, 10000)\n",
      "[[0.85635654 0.14740138 0.5525238  ... 0.12740703 0.13028705 0.21843581]\n",
      " [0.85171221 0.14660197 0.54952726 ... 0.12671605 0.12958046 0.21725115]\n",
      " [0.86337403 0.14860927 0.5570515  ... 0.12845108 0.1313547  0.2202258 ]\n",
      " ...\n",
      " [0.20296897 0.03493627 0.13095619 ... 0.03019732 0.03087993 0.05177247]\n",
      " [0.78276905 0.13473504 0.50504493 ... 0.11645883 0.11909137 0.19966542]\n",
      " [0.42630114 0.07337759 0.27505077 ... 0.06342424 0.06485794 0.1087391 ]]\n",
      "[[ True  True  True ...  True  True  True]\n",
      " [ True  True  True ...  True  True  True]\n",
      " [ True  True  True ...  True  True  True]\n",
      " ...\n",
      " [ True  True  True ...  True  True  True]\n",
      " [ True  True  True ...  True  True  True]\n",
      " [ True  True  True ...  True  True  True]]\n"
     ]
    }
   ],
   "source": [
    "print(totals1.shape)\n",
    "print(totals1[:10])\n",
    "print(totals == totals1)"
   ]
  },
  {
   "cell_type": "code",
   "execution_count": 7,
   "id": "58e87429",
   "metadata": {},
   "outputs": [],
   "source": [
    "# So wow, yes, we HAVE to use vectors for this sort of this, (ALSO for audio and DSP junk too I assume then...)"
   ]
  },
  {
   "cell_type": "code",
   "execution_count": 9,
   "id": "2cbb293b",
   "metadata": {},
   "outputs": [
    {
     "name": "stdout",
     "output_type": "stream",
     "text": [
      "[[ 4  5  6]\n",
      " [ 8 10 12]\n",
      " [12 15 18]]\n",
      "32\n"
     ]
    }
   ],
   "source": [
    "array1 = np.array([1, 2, 3])\n",
    "array2 = np.array([4, 5, 6])\n",
    "\n",
    "# Use numpy outer() function to multiply every value of array1 by every value of array2\n",
    "result_of_outer = np.outer(array1, array2)\n",
    "\n",
    "# Print the result\n",
    "print(result_of_outer)\n",
    "\n",
    "result_of_dot = np.dot(array1, array2)\n",
    "\n",
    "print(result_of_dot)\n"
   ]
  },
  {
   "cell_type": "code",
   "execution_count": null,
   "id": "315e65c4",
   "metadata": {},
   "outputs": [],
   "source": []
  }
 ],
 "metadata": {
  "kernelspec": {
   "display_name": "Python 3 (ipykernel)",
   "language": "python",
   "name": "python3"
  },
  "language_info": {
   "codemirror_mode": {
    "name": "ipython",
    "version": 3
   },
   "file_extension": ".py",
   "mimetype": "text/x-python",
   "name": "python",
   "nbconvert_exporter": "python",
   "pygments_lexer": "ipython3",
   "version": "3.10.9"
  }
 },
 "nbformat": 4,
 "nbformat_minor": 5
}
