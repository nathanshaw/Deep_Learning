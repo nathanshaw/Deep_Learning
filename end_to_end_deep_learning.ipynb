{
 "cells": [
  {
   "attachments": {},
   "cell_type": "markdown",
   "metadata": {},
   "source": [
    "# What is end-to-end learning?\n",
    "Lets say that you are building a speech recognition network\n",
    "The typical workflow used to be: \n",
    "- Audio -> feature_extraction -> phonemes -> words -> transcript\n",
    "\n",
    "The end-to-end learning approach involves inputting the audio data and exporting the transcript (leaving the network to extract features, phonemes, words, etc)\n",
    "- Audio -> transcript\n",
    "\n",
    "End-to-end learning requires a very large dataset to work properly.\n",
    "- dataset of 3,000 hours wont likely work well, but a dataset of 10,000 hours or more is likely to work better\n",
    "\n",
    "## Pros and Cons\n",
    "- Pros\n",
    "  - Let the data speak. Instead of using human-conceived ideas about how the data can be used you let the data speak for itself.\n",
    "    - For example phonemes are likely a human-linguist conceived idea that might not help the model() if it is forced to use them. If, instead, it can construct its own ideas about how to construct meaning, it can leverage non-human approaches and generate better results.\n",
    "  - LEss hand-designing the individual components needed in the network\n",
    "- Cons \n",
    "  - May need large amount of data to train and work well\n",
    "    - This is true for your examples X and for the output Y\n",
    "  - Excludes potentially useful hand-designed components\n",
    "\n",
    "Deep networks have two sources of knowledge:\n",
    "- The data\n",
    "- Your hand-designed features\n",
    "\n",
    "## Self-Driving Cars as a Complex Example\n",
    "- Key Question: Do you have sufficient data to learn a function of the complexity needed to map x to y?\n",
    "  \n",
    "An example of a simplified workflow that supports self-driving is as follows:\n",
    "- Data input (image, radar, lydar, etc) \n",
    "- Detection (cars, stop signs, pedestrians, etc.)\n",
    "- Plan Route (given these obsticals, what direction and how fast will you drive for the next few seconds?)\n",
    "- Generate Commands (steering, acceleration, etc.)\n",
    "\n",
    "It would be impractical and nearly impossible to train an end-to-end network to solve this task. Instead they are each tackled by a different technology.\n",
    "- Image -> Detection (CV DL)\n",
    "- Detection -> Route (motion planning)\n",
    "- Route -> steering (control)"
   ]
  }
 ],
 "metadata": {
  "language_info": {
   "name": "python"
  },
  "orig_nbformat": 4
 },
 "nbformat": 4,
 "nbformat_minor": 2
}
