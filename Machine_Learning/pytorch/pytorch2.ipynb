{
 "cells": [
  {
   "attachments": {},
   "cell_type": "markdown",
   "metadata": {},
   "source": [
    "# Multiple Linear Regression (MLR) (in 2D)"
   ]
  },
  {
   "cell_type": "code",
   "execution_count": 7,
   "metadata": {},
   "outputs": [
    {
     "name": "stdout",
     "output_type": "stream",
     "text": [
      "<generator object Module.parameters at 0x127d1b680>\n",
      "<generator object Module.parameters at 0x127d1b680>\n",
      "OrderedDict([('weight', tensor([[ 0.3643, -0.3121]])), ('bias', tensor([-0.1371]))])\n",
      "yhat:  tensor([-0.7090], grad_fn=<AddBackward0>)\n"
     ]
    }
   ],
   "source": [
    "import torch\n",
    "from torch.nn import Linear\n",
    "\n",
    "torch.manual_seed(1)\n",
    "\n",
    "# Create a linear regression model\n",
    "model = Linear(in_features=2, out_features=1)\n",
    "\n",
    "# please note that model is lazily evaulated, the parameters are not\n",
    "# generated until list() is called on model() which forces it to evaluated\n",
    "# its parameters\n",
    "print(model.parameters())\n",
    "list(model.parameters())\n",
    "print(model.parameters())\n",
    "print(model.state_dict())"
   ]
  },
  {
   "cell_type": "code",
   "execution_count": null,
   "metadata": {},
   "outputs": [],
   "source": [
    "# single sample\n",
    "X = torch.tensor([1.0, 3.0])\n",
    "yhat = model(X)\n",
    "print(\"yhat: \", yhat)"
   ]
  },
  {
   "cell_type": "code",
   "execution_count": 8,
   "metadata": {},
   "outputs": [
    {
     "name": "stdout",
     "output_type": "stream",
     "text": [
      "tensor([[-2.4778],\n",
      "        [-0.1046],\n",
      "        [-0.4283]], grad_fn=<AddmmBackward0>)\n"
     ]
    }
   ],
   "source": [
    "# multiple samples\n",
    "X = torch.tensor([[0.0, 7.5],[5.4, 6.2],[0.4, 1.4]])\n",
    "yhats = model(X)\n",
    "print(yhats)"
   ]
  },
  {
   "cell_type": "code",
   "execution_count": null,
   "metadata": {},
   "outputs": [],
   "source": [
    "# Here is the custom model equivilant\n",
    "\n",
    "import pytorch.nn as nn\n",
    "from pytorch import optim\n",
    "from torch.utils.data import Dataset, DataLoader\n",
    "\n",
    "# This is one node\n",
    "class LR(nn.Module):\n",
    "    def __init__(self, input_size, output_size):\n",
    "        super(LR, self).__init__()\n",
    "        self.linear = nn.Linear(input_size, output_size)\n",
    "\n",
    "    def forward(self, x):\n",
    "        # make prediction yhat based on input x\n",
    "        yhat = self.linear(x)\n",
    "        return yhat\n",
    "\n",
    "# Create a Dataset class to hold our data\n",
    "class Data2D(Dataset):\n",
    "    def __init__():\n",
    "    self.x = torch.zeros\n",
    "\n",
    "## create an optimizer for gradient descent\n",
    "optimizer = optim.SGD(model, batch_size=5, lr=0.001)"
   ]
  }
 ],
 "metadata": {
  "kernelspec": {
   "display_name": "Python 3",
   "language": "python",
   "name": "python3"
  },
  "language_info": {
   "codemirror_mode": {
    "name": "ipython",
    "version": 3
   },
   "file_extension": ".py",
   "mimetype": "text/x-python",
   "name": "python",
   "nbconvert_exporter": "python",
   "pygments_lexer": "ipython3",
   "version": "3.10.9"
  },
  "orig_nbformat": 4,
  "vscode": {
   "interpreter": {
    "hash": "aee8b7b246df8f9039afb4144a1f6fd8d2ca17a180786b69acc140d282b71a49"
   }
  }
 },
 "nbformat": 4,
 "nbformat_minor": 2
}
