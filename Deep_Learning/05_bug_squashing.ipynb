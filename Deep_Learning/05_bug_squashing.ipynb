{
 "cells": [
  {
   "cell_type": "code",
   "execution_count": 8,
   "metadata": {},
   "outputs": [
    {
     "name": "stdout",
     "output_type": "stream",
     "text": [
      "[ 0.42396802  0.22705757 -0.02207982 -0.89002707 -0.01692857]\n"
     ]
    }
   ],
   "source": [
    "import numpy as np\n",
    "\n",
    "# this code produces a rank one array which is an odd\n",
    "# type of data structure which is somewhere between 2 and\n",
    "# 3 dimensions\n",
    "a = np.random.randn(5)\n",
    "print(a)"
   ]
  },
  {
   "cell_type": "code",
   "execution_count": 9,
   "metadata": {},
   "outputs": [
    {
     "name": "stdout",
     "output_type": "stream",
     "text": [
      "(5,)\n"
     ]
    }
   ],
   "source": [
    "# This causes issues due to its shape of (5,)\n",
    "print(a.shape)"
   ]
  },
  {
   "cell_type": "code",
   "execution_count": 11,
   "metadata": {},
   "outputs": [
    {
     "ename": "AssertionError",
     "evalue": "",
     "output_type": "error",
     "traceback": [
      "\u001b[0;31m---------------------------------------------------------------------------\u001b[0m",
      "\u001b[0;31mAssertionError\u001b[0m                            Traceback (most recent call last)",
      "Cell \u001b[0;32mIn[11], line 4\u001b[0m\n\u001b[1;32m      1\u001b[0m \u001b[39m# It can be useful in the code to add assert statements to \u001b[39;00m\n\u001b[1;32m      2\u001b[0m \u001b[39m# ensure that you are not accidently creating or conducting \u001b[39;00m\n\u001b[1;32m      3\u001b[0m \u001b[39m# operations on rank one vector arrays.\u001b[39;00m\n\u001b[0;32m----> 4\u001b[0m \u001b[39massert\u001b[39;00m(a\u001b[39m.\u001b[39mshape \u001b[39m==\u001b[39m (\u001b[39m5\u001b[39m,\u001b[39m1\u001b[39m))\n",
      "\u001b[0;31mAssertionError\u001b[0m: "
     ]
    }
   ],
   "source": [
    "# It can be useful in the code to add assert statements to \n",
    "# ensure that you are not accidently creating or conducting \n",
    "# operations on rank one vector arrays.\n",
    "assert(a.shape == (5,1))\n"
   ]
  },
  {
   "cell_type": "code",
   "execution_count": 12,
   "metadata": {},
   "outputs": [
    {
     "name": "stdout",
     "output_type": "stream",
     "text": [
      "[[ 0.42396802]\n",
      " [ 0.22705757]\n",
      " [-0.02207982]\n",
      " [-0.89002707]\n",
      " [-0.01692857]]\n",
      "(5, 1)\n"
     ]
    }
   ],
   "source": [
    "# While ideally, you want to avoid creating or \n",
    "# using any rank one arrays, they can always be reshaped\n",
    "# in the code so they expect closer to expected\n",
    "a = a.reshape(5,1)\n",
    "print(a)\n",
    "print(a.shape)\n",
    "assert(a.shape == (5,1))"
   ]
  },
  {
   "attachments": {},
   "cell_type": "markdown",
   "metadata": {},
   "source": [
    "## What the heck is a rank 1 array? \n",
    "\n",
    "A rank 1 array is an array that is technically 1-dimensional, but in practice behaves like a 2-dimensional array with only one row or one column. It is important to note that rank 1 arrays are not a recommended way to represent arrays in numpy.\n",
    "\n",
    "In the case of the code you provided, np.random.randn(5) creates a rank 1 array with shape (5,). This means it has only one axis, and that axis has 5 elements. In other words, it is a 1-dimensional array with 5 elements.\n",
    "\n",
    "On the other hand, np.random.randn(5, 1) creates a 2-dimensional array with shape (5, 1). This means it has two axes - the first axis has 5 elements and the second axis has 1 element. In other words, it is a 2-dimensional array with 5 rows and 1 column.\n",
    "\n",
    "The main difference between the two is that rank 1 arrays behave differently when it comes to operations involving matrix multiplication or transposition. For example, the transpose of a rank 1 array is the same as the original array, whereas the transpose of a 2-dimensional array is a flipped version of the original array.\n",
    "\n",
    "It is generally recommended to avoid using rank 1 arrays and instead use 2-dimensional arrays with a shape of (n, 1) or (1, n) depending on whether you want a column or a row vector, respectively."
   ]
  },
  {
   "cell_type": "code",
   "execution_count": null,
   "metadata": {},
   "outputs": [
    {
     "name": "stdout",
     "output_type": "stream",
     "text": [
      "[0.64413    0.82747819 0.70280757 0.37597963 1.17046154]\n"
     ]
    }
   ],
   "source": [
    "print(a.T)"
   ]
  },
  {
   "cell_type": "code",
   "execution_count": null,
   "metadata": {},
   "outputs": [
    {
     "name": "stdout",
     "output_type": "stream",
     "text": [
      "3.104902999059224\n"
     ]
    }
   ],
   "source": [
    "print(np.dot(a, a.T))"
   ]
  },
  {
   "attachments": {},
   "cell_type": "markdown",
   "metadata": {},
   "source": [
    "Instead, as an easy way to avoid these errors, instead explicitly create the array with a shape of (5,1) using the following code"
   ]
  },
  {
   "cell_type": "code",
   "execution_count": null,
   "metadata": {},
   "outputs": [
    {
     "name": "stdout",
     "output_type": "stream",
     "text": [
      "[[-0.87759362]\n",
      " [ 0.40464134]\n",
      " [-2.35669336]\n",
      " [ 0.48296511]\n",
      " [ 1.83561233]]\n",
      "(5, 1)\n",
      "[[ 0.77017056 -0.35511066  2.06821905 -0.4238471  -1.61092167]\n",
      " [-0.35511066  0.16373461 -0.95361555  0.19542765  0.74276463]\n",
      " [ 2.06821905 -0.95361555  5.55400359 -1.13820067 -4.3259754 ]\n",
      " [-0.4238471   0.19542765 -1.13820067  0.2332553   0.88653671]\n",
      " [-1.61092167  0.74276463 -4.3259754   0.88653671  3.36947264]]\n"
     ]
    }
   ],
   "source": [
    "# instead create a column vector\n",
    "a = np.random.randn(5,1)\n",
    "# or a row vector\n",
    "# a = np.random.randn(1,5)\n",
    "print(a)\n",
    "print(a.shape)\n",
    "print(np.dot(a, a.T))"
   ]
  }
 ],
 "metadata": {
  "kernelspec": {
   "display_name": "Python 3",
   "language": "python",
   "name": "python3"
  },
  "language_info": {
   "codemirror_mode": {
    "name": "ipython",
    "version": 3
   },
   "file_extension": ".py",
   "mimetype": "text/x-python",
   "name": "python",
   "nbconvert_exporter": "python",
   "pygments_lexer": "ipython3",
   "version": "3.10.9"
  },
  "orig_nbformat": 4
 },
 "nbformat": 4,
 "nbformat_minor": 2
}
