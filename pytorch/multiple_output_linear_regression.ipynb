{
 "cells": [
  {
   "attachments": {},
   "cell_type": "markdown",
   "metadata": {},
   "source": [
    "# Using PyTorch for Multiple Output Linear Regression"
   ]
  },
  {
   "cell_type": "code",
   "execution_count": 21,
   "metadata": {},
   "outputs": [],
   "source": [
    "import torch\n",
    "import torch.nn as nn\n",
    "import numpy as np\n",
    "from torch.utils.data import Dataset, DataLoader\n",
    "from torch import optim\n",
    "\n",
    "# Our Linear Regression Class\n",
    "class LR(nn.Module):\n",
    "    def __init__(self, input_size, output_size):\n",
    "        super(LR, self).__init__()\n",
    "        self.linear = nn.Linear(input_size, output_size)\n",
    "\n",
    "    def forward(self, x):\n",
    "        out = self.linear(x)\n",
    "        return out"
   ]
  },
  {
   "cell_type": "code",
   "execution_count": 11,
   "metadata": {},
   "outputs": [
    {
     "name": "stdout",
     "output_type": "stream",
     "text": [
      "[Parameter containing:\n",
      "tensor([[ 0.3643, -0.3121],\n",
      "        [-0.1371,  0.3319]], requires_grad=True), Parameter containing:\n",
      "tensor([-0.6657,  0.4241], requires_grad=True)]\n"
     ]
    }
   ],
   "source": [
    "# set the seed\n",
    "torch.manual_seed(1)\n",
    "# We are setting the number of output nodes to 2\n",
    "model = LR(input_size=2, output_size=2)\n",
    "# Print out the model's parameters\n",
    "print(list(model.parameters()))"
   ]
  },
  {
   "cell_type": "code",
   "execution_count": 12,
   "metadata": {},
   "outputs": [
    {
     "name": "stdout",
     "output_type": "stream",
     "text": [
      "tensor([[-1.0816,  1.1167]], grad_fn=<AddmmBackward0>)\n"
     ]
    }
   ],
   "source": [
    "# Create X as containing two input features\n",
    "x = torch.tensor([[1.0, 2.5]])\n",
    "# Make a prediction using our model\n",
    "yhat = model(x)\n",
    "# Print yhat, notice how yhat contains a value for each output node\n",
    "print(yhat)"
   ]
  },
  {
   "cell_type": "code",
   "execution_count": 13,
   "metadata": {},
   "outputs": [
    {
     "name": "stdout",
     "output_type": "stream",
     "text": [
      "tensor([[-1.0816,  1.1167],\n",
      "        [ 0.1099,  0.1752]], grad_fn=<AddmmBackward0>)\n"
     ]
    }
   ],
   "source": [
    "# Same thing as above, but with multiple x values (multiple inputs)\n",
    "X = torch.tensor([[1.0, 2.5], [2.3, 0.2]])\n",
    "yhats = model(X)\n",
    "print(yhats)"
   ]
  },
  {
   "cell_type": "code",
   "execution_count": 16,
   "metadata": {},
   "outputs": [],
   "source": [
    "# Create a Dataset Class for training the model\n",
    "\n",
    "class Data2D(Dataset):\n",
    "    def __init__(self):\n",
    "        # create an empty array (or tensor?) with 20 0's across two dimensions\n",
    "        self.x = torch.zeros(20, 2)\n",
    "        # create a range of values between -1 an 1 with a 0.1 change in value for each number\n",
    "        self.x[:, 0] = torch.arange(-1,1,0.1)\n",
    "        self.x[:, 1] = torch.arange(-1, 1, 0.1)\n",
    "        self.w = torch.tensor([[1.0, -1.0],[1.0, -1.0]])\n",
    "        self.b = torch.tensor([1.0, -1.0])\n",
    "        self.f = torch.mm(self.x, self.w) + self.b\n",
    "        self.y = self.f  + 0.1 * torch.randn((self.x.shape[0], 1))\n",
    "        self.len = self.x.shape[0]\n",
    "\n",
    "    def __getitem__(self, index):\n",
    "        return self.x[index], self.y[index]\n",
    "\n",
    "    def __len__(self):\n",
    "        return self.len"
   ]
  },
  {
   "cell_type": "code",
   "execution_count": 26,
   "metadata": {},
   "outputs": [],
   "source": [
    "dataset = Data2D()\n",
    "criterion = nn.MSELoss()\n",
    "trainloader = DataLoader(dataset=dataset, batch_size=1)\n",
    "\n",
    "model = LR(input_size=2, output_size=2)\n",
    "optimizer = optim.SGD(model.parameters(), lr=0.01)"
   ]
  },
  {
   "cell_type": "code",
   "execution_count": 29,
   "metadata": {},
   "outputs": [
    {
     "name": "stdout",
     "output_type": "stream",
     "text": [
      "[Parameter containing:\n",
      "tensor([[ 0.3687,  0.2367],\n",
      "        [-0.3977, -0.2524]], requires_grad=True), Parameter containing:\n",
      "tensor([ 0.3764, -0.2413], requires_grad=True)]\n",
      "[Parameter containing:\n",
      "tensor([[ 0.3687,  0.2367],\n",
      "        [-0.3977, -0.2524]], requires_grad=True), Parameter containing:\n",
      "tensor([ 0.3764, -0.2413], requires_grad=True)]\n"
     ]
    }
   ],
   "source": [
    "print(list(model.parameters()))\n",
    "for epoch in range(100):\n",
    "    for x,y in trainloader:\n",
    "        yhat = model(X)\n",
    "        loss = criterion(yhat, y)\n",
    "        # reset parameter values to 0, this is just a pytorch thing\n",
    "        optimizer.zero_grad()\n",
    "        # perform backwards prop\n",
    "        loss.backward()\n",
    "        optimizer.step()\n",
    "\n",
    "print(list(model.parameters()))"
   ]
  },
  {
   "cell_type": "code",
   "execution_count": null,
   "metadata": {},
   "outputs": [],
   "source": []
  }
 ],
 "metadata": {
  "kernelspec": {
   "display_name": "Python 3",
   "language": "python",
   "name": "python3"
  },
  "language_info": {
   "codemirror_mode": {
    "name": "ipython",
    "version": 3
   },
   "file_extension": ".py",
   "mimetype": "text/x-python",
   "name": "python",
   "nbconvert_exporter": "python",
   "pygments_lexer": "ipython3",
   "version": "3.10.9"
  },
  "orig_nbformat": 4,
  "vscode": {
   "interpreter": {
    "hash": "aee8b7b246df8f9039afb4144a1f6fd8d2ca17a180786b69acc140d282b71a49"
   }
  }
 },
 "nbformat": 4,
 "nbformat_minor": 2
}
