{
 "cells": [
  {
   "attachments": {},
   "cell_type": "markdown",
   "metadata": {},
   "source": [
    "# PyTorch vs. TensorFlow\n",
    "PyTorch and TensorFlow are two of the most popular open-source machine learning frameworks used for deep learning research and development.\n",
    "\n",
    "One of the main differences between PyTorch and TensorFlow is their approach to building and training deep learning models. PyTorch is considered to be more \"Pythonic\" in its approach, meaning that it uses a dynamic computation graph that is defined on-the-fly during execution, which makes it easier to write and debug code. TensorFlow, on the other hand, uses a static computation graph that must be defined before execution, which can make it more efficient for large-scale models but can also make it more challenging to write and debug code.\n",
    "\n",
    "Another difference between the two frameworks is their popularity and user community. TensorFlow has a larger user base and more extensive documentation and support, making it an excellent choice for beginners or those looking for robust support. PyTorch, on the other hand, has gained significant popularity in recent years, especially among the research community, due to its flexibility and ease of use.\n",
    "\n",
    "Overall, both frameworks are excellent choices for building deep learning models, and the choice between them often comes down to personal preference and the specific needs of your project."
   ]
  },
  {
   "attachments": {},
   "cell_type": "markdown",
   "metadata": {},
   "source": [
    "## Derivitives in PyTorch\n",
    "\n"
   ]
  },
  {
   "cell_type": "code",
   "execution_count": 71,
   "metadata": {},
   "outputs": [
    {
     "name": "stdout",
     "output_type": "stream",
     "text": [
      "dot_prod:  tensor([[ 8.0000, 15.5000],\n",
      "        [ 7.7500, 12.5000]], grad_fn=<MmBackward0>)\n",
      "ele_prod:  tensor([[ 2.0000,  0.0000, 36.0000],\n",
      "        [ 3.0000,  0.2500, 12.2500]], grad_fn=<MulBackward0>)\n"
     ]
    }
   ],
   "source": [
    "import torch \n",
    "%matplotlib inline\n",
    "\n",
    "x = torch.tensor([[2.0, 3.0, 4.0],[1.0, 0.5, 3.5]], requires_grad=True)\n",
    "y = torch.tensor([[-1.0, 0.0],[0.0, 0.5],[2.5, 3.5]], requires_grad=True)\n",
    "z = torch.tensor([[1.0, 0.0, 9.0],[3.0, 0.5, 3.5]], requires_grad=True)\n",
    "dot_prod = torch.mm(x, y)\n",
    "ele_prod = x * z\n",
    "print(\"dot_prod: \", dot_prod)\n",
    "print(\"ele_prod: \", ele_prod)"
   ]
  },
  {
   "attachments": {},
   "cell_type": "markdown",
   "metadata": {},
   "source": [
    "### Information stored in Tensors\n",
    "Tensors contain the following information\n",
    "- Data = data stored in tensor\n",
    "- grad_fn = graph of computations performed on tensor to calculate derivitive\n",
    "- grad = the calulated derivitive of the tensor\n",
    "- id_leaf = is the tensor a leaf tensor?\n",
    "- requires_grad = should the grad be stored and calculated for this tensor?"
   ]
  },
  {
   "attachments": {},
   "cell_type": "markdown",
   "metadata": {},
   "source": [
    "Great, now to calculate the derivitive of a scaler tensor call the .backward() function"
   ]
  },
  {
   "cell_type": "code",
   "execution_count": 72,
   "metadata": {},
   "outputs": [
    {
     "name": "stdout",
     "output_type": "stream",
     "text": [
      "tensor(4.)\n"
     ]
    }
   ],
   "source": [
    "scaler_t = torch.tensor(2.0, requires_grad=True)\n",
    "scaler_squared = scaler_t**2\n",
    "# calculate back prop\n",
    "scaler_squared.backward()\n",
    "# print out the derivitive\n",
    "print(scaler_t.grad)\n",
    "# as the derivitive of a x squared is 2x, 4 should be our derivitive"
   ]
  },
  {
   "attachments": {},
   "cell_type": "markdown",
   "metadata": {},
   "source": [
    "## Simple Dataset\n",
    "To use datasets in pytorch you have to import the class Dataset"
   ]
  },
  {
   "cell_type": "code",
   "execution_count": 73,
   "metadata": {},
   "outputs": [
    {
     "name": "stdout",
     "output_type": "stream",
     "text": [
      "(tensor([2., 2.]), tensor([1.]))\n",
      "(tensor([2., 2.]), tensor([1.]))\n"
     ]
    }
   ],
   "source": [
    "from torch.utils.data import Dataset\n",
    "\n",
    "# this new class is now inherits from Dataset\n",
    "class toy_set(Dataset):\n",
    "    def __init__(self, length=100, transform=None):\n",
    "        self.x = 2*torch.ones(length, 2)\n",
    "        self.y = torch.ones(length, 1)\n",
    "\n",
    "        self.len = length\n",
    "        self.transform = transform\n",
    "\n",
    "    def __getitem__(self, index):\n",
    "        sample = (self.x[index], self.y[index])\n",
    "        if self.transform:\n",
    "            sample = self.transform(sample)\n",
    "        return sample\n",
    "\n",
    "    def __len__(self):\n",
    "        return self.len\n",
    "\n",
    "dataset = toy_set()\n",
    "print(dataset[0])\n",
    "print(dataset[90])\n",
    "\n"
   ]
  },
  {
   "cell_type": "code",
   "execution_count": 74,
   "metadata": {},
   "outputs": [
    {
     "name": "stdout",
     "output_type": "stream",
     "text": [
      "(tensor([2., 2.]), tensor([1.]))\n",
      "tensor([8., 8.]) tensor([3.])\n"
     ]
    }
   ],
   "source": [
    "\n",
    "class add_mult(object):\n",
    "    def __init__(self, addx=1, multy=2):\n",
    "        self.addx = addx\n",
    "        self.multy = multy\n",
    "    def __call__(self, sample):\n",
    "        x = sample[0]\n",
    "        y = sample[1]\n",
    "        x = x + self.addx\n",
    "        y = y * self.multy\n",
    "        sample = x, y\n",
    "        return sample\n",
    "\n",
    "# One way we can use this function\n",
    "a_m = add_mult(addx=6, multy=3)\n",
    "print(dataset[0])\n",
    "x_, y_ = a_m(dataset[0])\n",
    "print(x_, y_)"
   ]
  },
  {
   "cell_type": "code",
   "execution_count": 75,
   "metadata": {},
   "outputs": [
    {
     "name": "stdout",
     "output_type": "stream",
     "text": [
      "(tensor([2., 2.]), tensor([1.]))\n",
      "(tensor([8., 8.]), tensor([3.]))\n"
     ]
    }
   ],
   "source": [
    "# another way we can use this function is by passing the a_m class into the dataset class\n",
    "# using the keyword trandform which will call sample=self.transform(sample) according to \n",
    "# our class definition\n",
    "dataset_ = toy_set(transform=a_m)\n",
    "print(dataset[10])\n",
    "print(dataset_[10])"
   ]
  },
  {
   "cell_type": "code",
   "execution_count": 76,
   "metadata": {},
   "outputs": [
    {
     "name": "stdout",
     "output_type": "stream",
     "text": [
      "(tensor([2., 2.]), tensor([1.]))\n",
      "(tensor([14., 14.]), tensor([28.]))\n"
     ]
    }
   ],
   "source": [
    "# You can also pass multiple functions using the tranforms function from pytorch like so\n",
    "from torchvision import transforms\n",
    "\n",
    "data_transformer = transforms.Compose([add_mult(), add_mult(),add_mult(addx=10,multy=7)])\n",
    "transformed_data_ = data_transformer(dataset[10])\n",
    "print(dataset[10])\n",
    "print(transformed_data_)"
   ]
  },
  {
   "cell_type": "code",
   "execution_count": 77,
   "metadata": {},
   "outputs": [
    {
     "name": "stdout",
     "output_type": "stream",
     "text": [
      "   Unnamed: 0        Date  AveragePrice  Total Volume     4046       4225  \\\n",
      "0           0  2015-12-27          1.33      64236.62  1036.74   54454.85   \n",
      "1           1  2015-12-20          1.35      54876.98   674.28   44638.81   \n",
      "2           2  2015-12-13          0.93     118220.22   794.70  109149.67   \n",
      "3           3  2015-12-06          1.08      78992.15  1132.00   71976.41   \n",
      "4           4  2015-11-29          1.28      51039.60   941.48   43838.39   \n",
      "\n",
      "     4770  Total Bags  Small Bags  Large Bags  XLarge Bags          type  \\\n",
      "0   48.16     8696.87     8603.62       93.25          0.0  conventional   \n",
      "1   58.33     9505.56     9408.07       97.49          0.0  conventional   \n",
      "2  130.50     8145.35     8042.21      103.14          0.0  conventional   \n",
      "3   72.58     5811.16     5677.40      133.76          0.0  conventional   \n",
      "4   75.78     6183.95     5986.26      197.69          0.0  conventional   \n",
      "\n",
      "   year  region  \n",
      "0  2015  Albany  \n",
      "1  2015  Albany  \n",
      "2  2015  Albany  \n",
      "3  2015  Albany  \n",
      "4  2015  Albany  \n",
      "File name  2015-12-20\n",
      "Class or y  1\n"
     ]
    }
   ],
   "source": [
    "# Dataset for images\n",
    "from PIL import Image\n",
    "import pandas as pd\n",
    "import os\n",
    "from matplotlib.pyplot import imshow\n",
    "from torch.utils.data import Dataset, DataLoader\n",
    "\n",
    "# Import the dataset of clothing images\n",
    "directory = \"data\"\n",
    "csv_file = \"avocado.csv\"\n",
    "os.listdir(directory)\n",
    "csv_path = os.path.join(directory, csv_file)\n",
    "\n",
    "# Convert the csv file into a dataframe using pandas\n",
    "data_frame = pd.read_csv(csv_path)\n",
    "\n",
    "# View part of the dataframe\n",
    "print(data_frame.head())\n",
    "\n",
    "# Access elements within the dataframe\n",
    "print(\"File name \", data_frame.iloc[1,1])\n",
    "print(\"Class or y \", data_frame.iloc[1,0])\n",
    "image_name = data_frame.iloc[1,1]\n",
    "image_path = os.path.join(directory, image_name)"
   ]
  },
  {
   "cell_type": "code",
   "execution_count": 78,
   "metadata": {},
   "outputs": [
    {
     "ename": "FileNotFoundError",
     "evalue": "[Errno 2] No such file or directory: 'data/2015-12-20'",
     "output_type": "error",
     "traceback": [
      "\u001b[0;31m---------------------------------------------------------------------------\u001b[0m",
      "\u001b[0;31mFileNotFoundError\u001b[0m                         Traceback (most recent call last)",
      "Cell \u001b[0;32mIn[78], line 2\u001b[0m\n\u001b[1;32m      1\u001b[0m \u001b[39m# Displaying Images in the Dataset\u001b[39;00m\n\u001b[0;32m----> 2\u001b[0m image \u001b[39m=\u001b[39m Image\u001b[39m.\u001b[39;49mopen(image_path)\n\u001b[1;32m      3\u001b[0m plt\u001b[39m.\u001b[39mimshow(image,cmap\u001b[39m=\u001b[39m\u001b[39m'\u001b[39m\u001b[39mgrey\u001b[39m\u001b[39m'\u001b[39m, vmin\u001b[39m=\u001b[39m\u001b[39m0\u001b[39m, vmax\u001b[39m=\u001b[39m\u001b[39m255\u001b[39m)\n\u001b[1;32m      4\u001b[0m plt\u001b[39m.\u001b[39mtitle(data_frame\u001b[39m.\u001b[39miloc[\u001b[39m1\u001b[39m,\u001b[39m0\u001b[39m])\n",
      "File \u001b[0;32m/usr/local/lib/python3.10/site-packages/PIL/Image.py:3227\u001b[0m, in \u001b[0;36mopen\u001b[0;34m(fp, mode, formats)\u001b[0m\n\u001b[1;32m   3224\u001b[0m     filename \u001b[39m=\u001b[39m fp\n\u001b[1;32m   3226\u001b[0m \u001b[39mif\u001b[39;00m filename:\n\u001b[0;32m-> 3227\u001b[0m     fp \u001b[39m=\u001b[39m builtins\u001b[39m.\u001b[39;49mopen(filename, \u001b[39m\"\u001b[39;49m\u001b[39mrb\u001b[39;49m\u001b[39m\"\u001b[39;49m)\n\u001b[1;32m   3228\u001b[0m     exclusive_fp \u001b[39m=\u001b[39m \u001b[39mTrue\u001b[39;00m\n\u001b[1;32m   3230\u001b[0m \u001b[39mtry\u001b[39;00m:\n",
      "\u001b[0;31mFileNotFoundError\u001b[0m: [Errno 2] No such file or directory: 'data/2015-12-20'"
     ]
    }
   ],
   "source": [
    "# Displaying Images in the Dataset\n",
    "image = Image.open(image_path)\n",
    "plt.imshow(image,cmap='grey', vmin=0, vmax=255)\n",
    "plt.title(data_frame.iloc[1,0])\n",
    "ply.show()"
   ]
  },
  {
   "cell_type": "code",
   "execution_count": null,
   "metadata": {},
   "outputs": [
    {
     "data": {
      "text/plain": [
       "ToTensor()"
      ]
     },
     "execution_count": 48,
     "metadata": {},
     "output_type": "execute_result"
    }
   ],
   "source": [
    "# Transformations On Images\n",
    "import torchvision.transforms as transforms\n",
    "\n",
    "# Take the center 20x20 pixels?\n",
    "transforms.CenterCrop(20)\n",
    "# convert image to tensor\n",
    "transforms.ToTensor()\n",
    "\n",
    "croptensor_data_transform = transforms.Compose([transforms.CenterCrop(20), transforms.ToTensor()])\n",
    "dataset = Dataset(csv_file=csv_file, data_dir=directory, transform=croptensor_data_transform)\n",
    "print(dataset[0][0].shape)\n",
    "torch.Size([1, 20, 20])\n"
   ]
  },
  {
   "cell_type": "code",
   "execution_count": null,
   "metadata": {},
   "outputs": [
    {
     "name": "stdout",
     "output_type": "stream",
     "text": [
      "Downloading http://yann.lecun.com/exdb/mnist/train-images-idx3-ubyte.gz\n",
      "Downloading http://yann.lecun.com/exdb/mnist/train-images-idx3-ubyte.gz to ./data/MNIST/raw/train-images-idx3-ubyte.gz\n"
     ]
    },
    {
     "name": "stderr",
     "output_type": "stream",
     "text": [
      "100%|██████████| 9912422/9912422 [00:01<00:00, 6215721.42it/s]\n"
     ]
    },
    {
     "name": "stdout",
     "output_type": "stream",
     "text": [
      "Extracting ./data/MNIST/raw/train-images-idx3-ubyte.gz to ./data/MNIST/raw\n",
      "\n",
      "Downloading http://yann.lecun.com/exdb/mnist/train-labels-idx1-ubyte.gz\n",
      "Downloading http://yann.lecun.com/exdb/mnist/train-labels-idx1-ubyte.gz to ./data/MNIST/raw/train-labels-idx1-ubyte.gz\n"
     ]
    },
    {
     "name": "stderr",
     "output_type": "stream",
     "text": [
      "100%|██████████| 28881/28881 [00:00<00:00, 1547427.17it/s]\n"
     ]
    },
    {
     "name": "stdout",
     "output_type": "stream",
     "text": [
      "Extracting ./data/MNIST/raw/train-labels-idx1-ubyte.gz to ./data/MNIST/raw\n",
      "\n",
      "Downloading http://yann.lecun.com/exdb/mnist/t10k-images-idx3-ubyte.gz\n",
      "Downloading http://yann.lecun.com/exdb/mnist/t10k-images-idx3-ubyte.gz to ./data/MNIST/raw/t10k-images-idx3-ubyte.gz\n"
     ]
    },
    {
     "name": "stderr",
     "output_type": "stream",
     "text": [
      "100%|██████████| 1648877/1648877 [00:00<00:00, 3848696.12it/s]\n"
     ]
    },
    {
     "name": "stdout",
     "output_type": "stream",
     "text": [
      "Extracting ./data/MNIST/raw/t10k-images-idx3-ubyte.gz to ./data/MNIST/raw\n",
      "\n",
      "Downloading http://yann.lecun.com/exdb/mnist/t10k-labels-idx1-ubyte.gz\n",
      "Downloading http://yann.lecun.com/exdb/mnist/t10k-labels-idx1-ubyte.gz to ./data/MNIST/raw/t10k-labels-idx1-ubyte.gz\n"
     ]
    },
    {
     "name": "stderr",
     "output_type": "stream",
     "text": [
      "100%|██████████| 4542/4542 [00:00<00:00, 484684.61it/s]"
     ]
    },
    {
     "name": "stdout",
     "output_type": "stream",
     "text": [
      "Extracting ./data/MNIST/raw/t10k-labels-idx1-ubyte.gz to ./data/MNIST/raw\n",
      "\n"
     ]
    },
    {
     "name": "stderr",
     "output_type": "stream",
     "text": [
      "\n"
     ]
    }
   ],
   "source": [
    "# importing datasets form PyTorch\n",
    "from torchvision import datasets as dsets\n",
    "dataset_test = dsets.MNIST(root=\"./data\", train=False, download=True, transform=transforms.ToTensor())\n",
    "dataset_train = dsets.MNIST(root=\"./data\", train=True, download=True, transform=transforms.ToTensor())"
   ]
  },
  {
   "attachments": {},
   "cell_type": "markdown",
   "metadata": {},
   "source": [
    "## Linear Regression Prediction (1D) in PyTorch\n",
    "Predicting label of y to input data of x using a linear model of:\n",
    "y = wx + b"
   ]
  },
  {
   "cell_type": "code",
   "execution_count": null,
   "metadata": {},
   "outputs": [
    {
     "name": "stdout",
     "output_type": "stream",
     "text": [
      "tensor([1.], grad_fn=<AddBackward0>)\n",
      "tensor([[1.],\n",
      "        [2.],\n",
      "        [3.]], grad_fn=<AddBackward0>)\n"
     ]
    }
   ],
   "source": [
    "# Weights\n",
    "w = torch.tensor(2.0, requires_grad=True)\n",
    "# bias\n",
    "b = torch.tensor(-1.0, requires_grad=True)\n",
    "# forward prop\n",
    "def forward(x):\n",
    "    y = w * x + b\n",
    "    return y\n",
    "\n",
    "# apply forward to 1d tensor with one value\n",
    "x = torch.tensor([1.0])\n",
    "yhat = forward(x)\n",
    "print(yhat)\n",
    "\n",
    "# apply forward to 1d tensor with 3 vlaues\n",
    "x = torch.tensor([[1.0],[1.5],[2.0]])\n",
    "yhat = forward(x)\n",
    "print(yhat)\n"
   ]
  },
  {
   "cell_type": "code",
   "execution_count": null,
   "metadata": {},
   "outputs": [
    {
     "name": "stdout",
     "output_type": "stream",
     "text": [
      "parameters (w,b):  [Parameter containing:\n",
      "tensor([[0.5153]], requires_grad=True), Parameter containing:\n",
      "tensor([-0.4414], requires_grad=True)]\n",
      "parameters (w,b):  [Parameter containing:\n",
      "tensor([[0.5153]], requires_grad=True), Parameter containing:\n",
      "tensor([-0.4414], requires_grad=True)]\n"
     ]
    }
   ],
   "source": [
    "from torch.nn import Linear\n",
    "\n",
    "# set seed manually to get same results\n",
    "torch.manual_seed(1)\n",
    "# create a linear classifier model\n",
    "model = Linear(in_features=1, out_features=1)\n",
    "# input our data into the model\n",
    "y = model(x)\n",
    "# we can look at the parameters of the model using this code\n",
    "print(\"parameters (w,b): \", list(model.parameters())) \n",
    "yhat = model(x)\n",
    "print(\"parameters (w,b): \", list(model.parameters())) "
   ]
  },
  {
   "cell_type": "code",
   "execution_count": 86,
   "metadata": {},
   "outputs": [
    {
     "ename": "NameError",
     "evalue": "name 'in_size' is not defined",
     "output_type": "error",
     "traceback": [
      "\u001b[0;31m---------------------------------------------------------------------------\u001b[0m",
      "\u001b[0;31mNameError\u001b[0m                                 Traceback (most recent call last)",
      "Cell \u001b[0;32mIn[86], line 14\u001b[0m\n\u001b[1;32m     11\u001b[0m         out \u001b[39m=\u001b[39m \u001b[39mself\u001b[39m\u001b[39m.\u001b[39mlinear(x)\n\u001b[1;32m     12\u001b[0m         \u001b[39mreturn\u001b[39;00m out\n\u001b[0;32m---> 14\u001b[0m model \u001b[39m=\u001b[39m LR(\u001b[39m10\u001b[39;49m,\u001b[39m1\u001b[39;49m)\n\u001b[1;32m     16\u001b[0m \u001b[39m# we can use this code to manually change the value of our parameters\u001b[39;00m\n\u001b[1;32m     17\u001b[0m model\u001b[39m.\u001b[39mstate_dict()[\u001b[39m'\u001b[39m\u001b[39mlinear.weight\u001b[39m\u001b[39m'\u001b[39m]\u001b[39m.\u001b[39mdata[\u001b[39m0\u001b[39m] \u001b[39m=\u001b[39m torch\u001b[39m.\u001b[39mtensor([\u001b[39m0.5153\u001b[39m])\n",
      "Cell \u001b[0;32mIn[86], line 8\u001b[0m, in \u001b[0;36mLR.__init__\u001b[0;34m(self, input_size, output_size)\u001b[0m\n\u001b[1;32m      5\u001b[0m \u001b[39mdef\u001b[39;00m \u001b[39m__init__\u001b[39m(\u001b[39mself\u001b[39m, input_size, output_size):\n\u001b[1;32m      6\u001b[0m     \u001b[39m# calls the initialization function for the parent class nn.Module\u001b[39;00m\n\u001b[1;32m      7\u001b[0m     \u001b[39msuper\u001b[39m(LR, \u001b[39mself\u001b[39m)\u001b[39m.\u001b[39m\u001b[39m__init__\u001b[39m()\n\u001b[0;32m----> 8\u001b[0m     \u001b[39mself\u001b[39m\u001b[39m.\u001b[39mlinear \u001b[39m=\u001b[39m nn\u001b[39m.\u001b[39mLinear(in_size, output_size)\n",
      "\u001b[0;31mNameError\u001b[0m: name 'in_size' is not defined"
     ]
    }
   ],
   "source": [
    "# Creating custom Models in PyTorch\n",
    "import torch.nn as nn\n",
    "\n",
    "class LR(nn.Module):\n",
    "    def __init__(self, input_size, output_size):\n",
    "        # calls the initialization function for the parent class nn.Module\n",
    "        super(LR, self).__init__()\n",
    "        self.linear = nn.Linear(in_size, output_size)\n",
    "\n",
    "    def forward(self, x):\n",
    "        out = self.linear(x)\n",
    "        return out\n",
    "\n",
    "model = LR(10,1)\n",
    "\n",
    "# we can use this code to manually change the value of our parameters\n",
    "model.state_dict()['linear.weight'].data[0] = torch.tensor([0.5153])\n",
    "model.state_dict()['linear.bias'].data[0] = torch.tensor([-0.4414])\n",
    "\n",
    "# print new parameters (this is possible because the model is subclass of nn.module)\n",
    "print(list(model.parameters()))\n",
    "x = torch.tensor([1.0])\n",
    "yhat = model(x)\n",
    "print(\"yhat: \", yhat)\n",
    "x = torch.tensor([[1.0], [2.0]])\n",
    "yhats = model(x)\n",
    "print(\"yhats : \", yhats)\n",
    "\n",
    "\"\"\"\n",
    "IMPORTANT - When you pass a tensor into a model(x) you are\n",
    " calling the forward() function with the tensor as an argument\n",
    "\"\"\"\n",
    "# the .state_dict() function is useful as it returns the parameters as a dictionary\n",
    "print(model.state_dict())\n",
    "print(model.state_dict().keys())\n",
    "print(model.state_dict().values())"
   ]
  },
  {
   "cell_type": "code",
   "execution_count": 87,
   "metadata": {},
   "outputs": [
    {
     "name": "stdout",
     "output_type": "stream",
     "text": [
      "torch.Size([60])\n",
      "torch.Size([60, 1])\n"
     ]
    },
    {
     "data": {
      "image/png": "[encoded data removed]",
      "text/plain": [
       "<Figure size 640x480 with 1 Axes>"
      ]
     },
     "metadata": {},
     "output_type": "display_data"
    },
    {
     "data": {
      "image/png": "[encoded data removed]",
      "text/plain": [
       "<Figure size 640x480 with 1 Axes>"
      ]
     },
     "metadata": {},
     "output_type": "display_data"
    }
   ],
   "source": [
    "# Training our Model\n",
    "# Linear Models assume the use of Gaussian noise\n",
    "# Lets first calculate loss by subtracting our yhat \n",
    "# prediction from the label y and squaring the result (y-yhat)**2\n",
    "# this equates to (y1 - w * x1)**2 for linear regression for w\n",
    "# this equates to (y1 - x1 + b)**2 for linear regression for b\n",
    "\n",
    "# Gradient Descent\n",
    "# The derivitive that you get is the opposite sign as the \n",
    "# direction you wan to move your parameters to minimize loss\n",
    "# Cost is the sum of the loss or the average loss depending on what \n",
    "# approach you choose\n",
    "\n",
    "\n",
    "# Sweet, now lets conduct Gradient descent in PyTorch!\n",
    "X = torch.arange(-3,3,0.1)\n",
    "print(X.shape)\n",
    "# add one dimension to the end of the tensor\n",
    "X = X.view(-1, 1)\n",
    "f = -3 * X\n",
    "print(X.shape)\n",
    "\n",
    "import matplotlib.pyplot as plt\n",
    "\n",
    "plt.plot(X.numpy(), f.numpy())\n",
    "plt.show()\n",
    "\n",
    "Y = f+0.1*torch.randn(X.size())\n",
    "\n",
    "plt.plot(X.numpy(), Y.numpy(), 'ro')\n",
    "plt.show()"
   ]
  },
  {
   "attachments": {},
   "cell_type": "markdown",
   "metadata": {},
   "source": [
    "# Stochastic Gradient Descent (as opposed to batch)\n",
    "While we calculate our cost function for batch gradient descent on a batch of examples (often the entire training set), with stochastic gradient descent we calculate cost and perform gradient descent on each sample one at a time.\n",
    "\n",
    "There are several reasons why you might prefer stochastic gradient descent (SGD) over batch gradient descent (BGD):\n",
    "- Computational efficiency: SGD is more computationally efficient than BGD because it updates the parameters of the model more frequently, based on each individual training example, rather than waiting to accumulate gradients across a large batch of examples before updating.\n",
    "- Better generalization: SGD can sometimes result in better generalization because it introduces more randomness into the learning process, which can help the model avoid getting stuck in local minima. In contrast, BGD can sometimes overfit to the training data by updating the parameters in the same direction across many similar examples.\n",
    "- Ability to handle large datasets: SGD is particularly useful for large datasets because it can learn from small subsets of the data at a time. This is often necessary because storing and processing large datasets can be memory-intensive and time-consuming.\n",
    "- Ease of implementation: SGD is relatively easy to implement and tune, since it only requires setting a few hyperparameters, such as the learning rate and the number of epochs.\n",
    "\n",
    "Overall, SGD can be a good choice for training deep learning models, especially when working with large datasets or when computational efficiency is a concern. However, it's important to note that SGD can also have some downsides, such as slower convergence and more difficulty in finding the optimal hyperparameters."
   ]
  },
  {
   "cell_type": "markdown",
   "metadata": {},
   "source": []
  },
  {
   "cell_type": "code",
   "execution_count": 88,
   "metadata": {},
   "outputs": [],
   "source": [
    "# DataLoaders are container you place dataframes inside of to \n",
    "# extend the functionality of your dataframe\n",
    "\n",
    "# this would function similar to stochastic gradient descent\n",
    "trainloader_stochastic = DataLoader(dataset=X, batch_size=1)\n",
    "\n",
    "# this would function similar to mini-batch gradient descent\n",
    "trainloader_mini_batch = DataLoader(dataset=dataset, batch_size=10)\n",
    "\n",
    "# this would function similar to batch gradient descent\n",
    "trainloader_batch = DataLoader(dataset=dataset, batch_size=dataset.len)"
   ]
  },
  {
   "cell_type": "code",
   "execution_count": 89,
   "metadata": {},
   "outputs": [
    {
     "name": "stdout",
     "output_type": "stream",
     "text": [
      "{'state': {}, 'param_groups': [{'lr': 0.01, 'momentum': 0, 'dampening': 0, 'weight_decay': 0, 'nesterov': False, 'maximize': False, 'foreach': None, 'differentiable': False, 'params': [0, 1]}]}\n"
     ]
    },
    {
     "ename": "RuntimeError",
     "evalue": "mat1 and mat2 shapes cannot be multiplied (10x2 and 1x1)",
     "output_type": "error",
     "traceback": [
      "\u001b[0;31m---------------------------------------------------------------------------\u001b[0m",
      "\u001b[0;31mRuntimeError\u001b[0m                              Traceback (most recent call last)",
      "Cell \u001b[0;32mIn[89], line 12\u001b[0m\n\u001b[1;32m     10\u001b[0m \u001b[39mfor\u001b[39;00m epoch \u001b[39min\u001b[39;00m \u001b[39mrange\u001b[39m(\u001b[39m100\u001b[39m):\n\u001b[1;32m     11\u001b[0m     \u001b[39mfor\u001b[39;00m x,y \u001b[39min\u001b[39;00m trainloader_mini_batch:\n\u001b[0;32m---> 12\u001b[0m         yhat \u001b[39m=\u001b[39m model(x)\n\u001b[1;32m     13\u001b[0m         loss \u001b[39m=\u001b[39m criterion(yhat, y)\n\u001b[1;32m     14\u001b[0m         optimizer\u001b[39m.\u001b[39mzero_grad()\n",
      "File \u001b[0;32m/usr/local/lib/python3.10/site-packages/torch/nn/modules/module.py:1501\u001b[0m, in \u001b[0;36mModule._call_impl\u001b[0;34m(self, *args, **kwargs)\u001b[0m\n\u001b[1;32m   1496\u001b[0m \u001b[39m# If we don't have any hooks, we want to skip the rest of the logic in\u001b[39;00m\n\u001b[1;32m   1497\u001b[0m \u001b[39m# this function, and just call forward.\u001b[39;00m\n\u001b[1;32m   1498\u001b[0m \u001b[39mif\u001b[39;00m \u001b[39mnot\u001b[39;00m (\u001b[39mself\u001b[39m\u001b[39m.\u001b[39m_backward_hooks \u001b[39mor\u001b[39;00m \u001b[39mself\u001b[39m\u001b[39m.\u001b[39m_backward_pre_hooks \u001b[39mor\u001b[39;00m \u001b[39mself\u001b[39m\u001b[39m.\u001b[39m_forward_hooks \u001b[39mor\u001b[39;00m \u001b[39mself\u001b[39m\u001b[39m.\u001b[39m_forward_pre_hooks\n\u001b[1;32m   1499\u001b[0m         \u001b[39mor\u001b[39;00m _global_backward_pre_hooks \u001b[39mor\u001b[39;00m _global_backward_hooks\n\u001b[1;32m   1500\u001b[0m         \u001b[39mor\u001b[39;00m _global_forward_hooks \u001b[39mor\u001b[39;00m _global_forward_pre_hooks):\n\u001b[0;32m-> 1501\u001b[0m     \u001b[39mreturn\u001b[39;00m forward_call(\u001b[39m*\u001b[39;49margs, \u001b[39m*\u001b[39;49m\u001b[39m*\u001b[39;49mkwargs)\n\u001b[1;32m   1502\u001b[0m \u001b[39m# Do not call functions when jit is used\u001b[39;00m\n\u001b[1;32m   1503\u001b[0m full_backward_hooks, non_full_backward_hooks \u001b[39m=\u001b[39m [], []\n",
      "Cell \u001b[0;32mIn[64], line 11\u001b[0m, in \u001b[0;36mLR.forward\u001b[0;34m(self, x)\u001b[0m\n\u001b[1;32m     10\u001b[0m \u001b[39mdef\u001b[39;00m \u001b[39mforward\u001b[39m(\u001b[39mself\u001b[39m, x):\n\u001b[0;32m---> 11\u001b[0m     out \u001b[39m=\u001b[39m \u001b[39mself\u001b[39;49m\u001b[39m.\u001b[39;49mlinear(x)\n\u001b[1;32m     12\u001b[0m     \u001b[39mreturn\u001b[39;00m out\n",
      "File \u001b[0;32m/usr/local/lib/python3.10/site-packages/torch/nn/modules/module.py:1501\u001b[0m, in \u001b[0;36mModule._call_impl\u001b[0;34m(self, *args, **kwargs)\u001b[0m\n\u001b[1;32m   1496\u001b[0m \u001b[39m# If we don't have any hooks, we want to skip the rest of the logic in\u001b[39;00m\n\u001b[1;32m   1497\u001b[0m \u001b[39m# this function, and just call forward.\u001b[39;00m\n\u001b[1;32m   1498\u001b[0m \u001b[39mif\u001b[39;00m \u001b[39mnot\u001b[39;00m (\u001b[39mself\u001b[39m\u001b[39m.\u001b[39m_backward_hooks \u001b[39mor\u001b[39;00m \u001b[39mself\u001b[39m\u001b[39m.\u001b[39m_backward_pre_hooks \u001b[39mor\u001b[39;00m \u001b[39mself\u001b[39m\u001b[39m.\u001b[39m_forward_hooks \u001b[39mor\u001b[39;00m \u001b[39mself\u001b[39m\u001b[39m.\u001b[39m_forward_pre_hooks\n\u001b[1;32m   1499\u001b[0m         \u001b[39mor\u001b[39;00m _global_backward_pre_hooks \u001b[39mor\u001b[39;00m _global_backward_hooks\n\u001b[1;32m   1500\u001b[0m         \u001b[39mor\u001b[39;00m _global_forward_hooks \u001b[39mor\u001b[39;00m _global_forward_pre_hooks):\n\u001b[0;32m-> 1501\u001b[0m     \u001b[39mreturn\u001b[39;00m forward_call(\u001b[39m*\u001b[39;49margs, \u001b[39m*\u001b[39;49m\u001b[39m*\u001b[39;49mkwargs)\n\u001b[1;32m   1502\u001b[0m \u001b[39m# Do not call functions when jit is used\u001b[39;00m\n\u001b[1;32m   1503\u001b[0m full_backward_hooks, non_full_backward_hooks \u001b[39m=\u001b[39m [], []\n",
      "File \u001b[0;32m/usr/local/lib/python3.10/site-packages/torch/nn/modules/linear.py:114\u001b[0m, in \u001b[0;36mLinear.forward\u001b[0;34m(self, input)\u001b[0m\n\u001b[1;32m    113\u001b[0m \u001b[39mdef\u001b[39;00m \u001b[39mforward\u001b[39m(\u001b[39mself\u001b[39m, \u001b[39minput\u001b[39m: Tensor) \u001b[39m-\u001b[39m\u001b[39m>\u001b[39m Tensor:\n\u001b[0;32m--> 114\u001b[0m     \u001b[39mreturn\u001b[39;00m F\u001b[39m.\u001b[39;49mlinear(\u001b[39minput\u001b[39;49m, \u001b[39mself\u001b[39;49m\u001b[39m.\u001b[39;49mweight, \u001b[39mself\u001b[39;49m\u001b[39m.\u001b[39;49mbias)\n",
      "\u001b[0;31mRuntimeError\u001b[0m: mat1 and mat2 shapes cannot be multiplied (10x2 and 1x1)"
     ]
    }
   ],
   "source": [
    "# Optimization in PyTorch\n",
    "from torch import nn, optim\n",
    "\n",
    "# Create an optimizer object for Stochastic Gradient Descent\n",
    "# Tell it to optimize the paramters (w,b) of model and give it \n",
    "# a learning rate of 0.01\n",
    "optimizer = optim.SGD(model.parameters(), lr=0.01)\n",
    "print(optimizer.state_dict())\n",
    "\n",
    "for epoch in range(100):\n",
    "    for x,y in trainloader_mini_batch:\n",
    "        yhat = model(x)\n",
    "        loss = criterion(yhat, y)\n",
    "        optimizer.zero_grad()\n",
    "        loss.backward()\n",
    "        # .step() updates the parameters\n",
    "        optimizer.step()"
   ]
  },
  {
   "cell_type": "code",
   "execution_count": null,
   "metadata": {},
   "outputs": [],
   "source": []
  }
 ],
 "metadata": {
  "kernelspec": {
   "display_name": "Python 3",
   "language": "python",
   "name": "python3"
  },
  "language_info": {
   "codemirror_mode": {
    "name": "ipython",
    "version": 3
   },
   "file_extension": ".py",
   "mimetype": "text/x-python",
   "name": "python",
   "nbconvert_exporter": "python",
   "pygments_lexer": "ipython3",
   "version": "3.10.9"
  },
  "orig_nbformat": 4
 },
 "nbformat": 4,
 "nbformat_minor": 2
}
